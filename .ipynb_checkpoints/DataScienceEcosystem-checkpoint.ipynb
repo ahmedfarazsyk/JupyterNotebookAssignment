{
 "cells": [
  {
   "cell_type": "markdown",
   "id": "8fc80c38-2e5d-4ba7-9956-a752fc99856e",
   "metadata": {},
   "source": [
    "# Data Science Tools and Ecosystem"
   ]
  },
  {
   "cell_type": "markdown",
   "id": "ce162550-8d81-4aaa-900c-c4a2ff142850",
   "metadata": {},
   "source": [
    "In this notebook we are going to summraize some of the Data Science Tools and Ecosystem."
   ]
  },
  {
   "cell_type": "markdown",
   "id": "e9ca6bfb-dd12-49fc-b27c-16426573bee2",
   "metadata": {},
   "source": [
    "### **Objectives**:\n",
    "\n",
    "+ Most commonly used languages in Data Science community.\n",
    "+ Most commonly used libraries by Data Scientists.\n",
    "+ Most commonly used Development Environments (IDEs).\n",
    "+ Examples of Arithmetic operations in Python."
   ]
  },
  {
   "cell_type": "markdown",
   "id": "d933ced6-f5cd-4b86-bd9c-9c04fbc66afd",
   "metadata": {},
   "source": [
    "### Some of the most commonly used languages in Data Science are:\n",
    "\n",
    "1. Python\n",
    "2. R\n",
    "3. Julia\n",
    "4. Scala\n",
    "5. Java"
   ]
  },
  {
   "cell_type": "markdown",
   "id": "4123dcdb-5403-4203-9781-40db8ce44db3",
   "metadata": {},
   "source": [
    "### Some of the most commonly used libraries in Data Science are:\n",
    "\n",
    "1. Pandas (used for data cleaning and analysis)\n",
    "2. Scikit Learn (used for training ML models)\n",
    "3. Matplotlib (used for ploting various graphs and visulaization)\n",
    "4. NumPy (used for numerical analysis)\n",
    "5. Weka (used for data mining)"
   ]
  },
  {
   "cell_type": "markdown",
   "id": "9251a335-fde0-44d4-b563-807f95e6da18",
   "metadata": {},
   "source": [
    "|Data Science Tools|\n",
    "|------------------|\n",
    "|Visual Studio Code|\n",
    "|JupyterLab|\n",
    "|Google Colaboratory|"
   ]
  },
  {
   "cell_type": "markdown",
   "id": "86a295f2-d0d7-4061-a991-9398638392f8",
   "metadata": {},
   "source": [
    "### Some of the examples of evaluating arithmetic expressions in Python are give below:"
   ]
  },
  {
   "cell_type": "code",
   "execution_count": 1,
   "id": "ca4dc308-13c6-44e3-9a2b-2ab0699413b2",
   "metadata": {},
   "outputs": [
    {
     "data": {
      "text/plain": [
       "17"
      ]
     },
     "execution_count": 1,
     "metadata": {},
     "output_type": "execute_result"
    }
   ],
   "source": [
    "#This is a simple arithmetic expression to multiply then add integers.\n",
    "(3*4)+5"
   ]
  },
  {
   "cell_type": "code",
   "execution_count": 2,
   "id": "be3c8477-da29-4537-8fa2-1ed4c3fe2187",
   "metadata": {},
   "outputs": [
    {
     "name": "stdout",
     "output_type": "stream",
     "text": [
      "3.3333333333333335\n"
     ]
    }
   ],
   "source": [
    "#This will convert 200 minutes to hours by dividing by 60.\n",
    "hours=200/60\n",
    "print(hours)"
   ]
  },
  {
   "cell_type": "markdown",
   "id": "e09a8142-6a84-424c-a12a-03bc49599185",
   "metadata": {},
   "source": [
    "## Author:\n",
    "Ahmed Faraz"
   ]
  }
 ],
 "metadata": {
  "kernelspec": {
   "display_name": "Python 3 (ipykernel)",
   "language": "python",
   "name": "python3"
  },
  "language_info": {
   "codemirror_mode": {
    "name": "ipython",
    "version": 3
   },
   "file_extension": ".py",
   "mimetype": "text/x-python",
   "name": "python",
   "nbconvert_exporter": "python",
   "pygments_lexer": "ipython3",
   "version": "3.10.9"
  }
 },
 "nbformat": 4,
 "nbformat_minor": 5
}
